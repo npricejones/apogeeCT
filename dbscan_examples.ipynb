{
 "cells": [
  {
   "cell_type": "code",
   "execution_count": 1,
   "metadata": {},
   "outputs": [],
   "source": [
    "from sample import get_apogee, gen_keys_condition\n",
    "from chemicaltag import DBSCAN_tagging"
   ]
  },
  {
   "cell_type": "code",
   "execution_count": 2,
   "metadata": {},
   "outputs": [
    {
     "name": "stdout",
     "output_type": "stream",
     "text": []
    },
    {
     "name": "stdout",
     "output_type": "stream",
     "text": []
    },
    {
     "name": "stdout",
     "output_type": "stream",
     "text": []
    },
    {
     "name": "stderr",
     "output_type": "stream",
     "text": [
      "/Users/Natalie/anaconda2/envs/py3/lib/python3.7/site-packages/apogee-1.-py3.7.egg/apogee/tools/read.py:1421: UserWarning: Swapping in stellar parameters and abundances from Leung & Bovy (2019a)\n",
      "  warnings.warn(\"Swapping in stellar parameters and abundances from Leung & Bovy (2019a)\")\n"
     ]
    },
    {
     "name": "stdout",
     "output_type": "stream",
     "text": []
    },
    {
     "ename": "KeyError",
     "evalue": "\"Element CI is not part of the APOGEE elements (can't do everything!) or something went wrong)\"",
     "output_type": "error",
     "traceback": [
      "\u001b[0;31m---------------------------------------------------------------------------\u001b[0m",
      "\u001b[0;31mValueError\u001b[0m                                Traceback (most recent call last)",
      "\u001b[0;32m~/anaconda2/envs/py3/lib/python3.7/site-packages/apogee-1.-py3.7.egg/apogee/tools/__init__.py\u001b[0m in \u001b[0;36melemIndx\u001b[0;34m(elem)\u001b[0m\n\u001b[1;32m    216\u001b[0m     \u001b[0;32mtry\u001b[0m\u001b[0;34m:\u001b[0m\u001b[0;34m\u001b[0m\u001b[0;34m\u001b[0m\u001b[0m\n\u001b[0;32m--> 217\u001b[0;31m         \u001b[0;32mreturn\u001b[0m \u001b[0m_ELEM_SYMBOL\u001b[0m\u001b[0;34m.\u001b[0m\u001b[0mindex\u001b[0m\u001b[0;34m(\u001b[0m\u001b[0melem\u001b[0m\u001b[0;34m.\u001b[0m\u001b[0mlower\u001b[0m\u001b[0;34m(\u001b[0m\u001b[0;34m)\u001b[0m\u001b[0;34m)\u001b[0m\u001b[0;34m\u001b[0m\u001b[0;34m\u001b[0m\u001b[0m\n\u001b[0m\u001b[1;32m    218\u001b[0m     \u001b[0;32mexcept\u001b[0m \u001b[0mValueError\u001b[0m\u001b[0;34m:\u001b[0m\u001b[0;34m\u001b[0m\u001b[0;34m\u001b[0m\u001b[0m\n",
      "\u001b[0;31mValueError\u001b[0m: 'ci' is not in list",
      "\nDuring handling of the above exception, another exception occurred:\n",
      "\u001b[0;31mKeyError\u001b[0m                                  Traceback (most recent call last)",
      "\u001b[0;32m<ipython-input-2-b0152419caf7>\u001b[0m in \u001b[0;36m<module>\u001b[0;34m\u001b[0m\n\u001b[0;32m----> 1\u001b[0;31m \u001b[0mallStar\u001b[0m\u001b[0;34m=\u001b[0m\u001b[0mget_apogee\u001b[0m\u001b[0;34m(\u001b[0m\u001b[0mdr\u001b[0m\u001b[0;34m=\u001b[0m\u001b[0;34m'16'\u001b[0m\u001b[0;34m)\u001b[0m\u001b[0;34m\u001b[0m\u001b[0;34m\u001b[0m\u001b[0m\n\u001b[0m\u001b[1;32m      2\u001b[0m \u001b[0mallStar\u001b[0m\u001b[0;34m,\u001b[0m\u001b[0mgoodstars\u001b[0m\u001b[0;34m,\u001b[0m\u001b[0melemkeys\u001b[0m\u001b[0;34m=\u001b[0m\u001b[0mgen_keys_condition\u001b[0m\u001b[0;34m(\u001b[0m\u001b[0mallStar\u001b[0m\u001b[0;34m[\u001b[0m\u001b[0minds\u001b[0m\u001b[0;34m]\u001b[0m\u001b[0;34m,\u001b[0m\u001b[0melems\u001b[0m\u001b[0;34m,\u001b[0m\u001b[0mdr\u001b[0m\u001b[0;34m=\u001b[0m\u001b[0mdr\u001b[0m\u001b[0;34m,\u001b[0m\u001b[0muplim\u001b[0m\u001b[0;34m=\u001b[0m\u001b[0;36m0.15\u001b[0m\u001b[0;34m)\u001b[0m\u001b[0;34m\u001b[0m\u001b[0;34m\u001b[0m\u001b[0m\n",
      "\u001b[0;32m~/apogeeCT/sample.py\u001b[0m in \u001b[0;36mget_apogee\u001b[0;34m(dr, use_astroNN)\u001b[0m\n\u001b[1;32m     29\u001b[0m             allStar=apread.allStar(rmcommissioning=True,\n\u001b[1;32m     30\u001b[0m                                    \u001b[0mrmdups\u001b[0m\u001b[0;34m=\u001b[0m\u001b[0;32mFalse\u001b[0m\u001b[0;34m,\u001b[0m\u001b[0;34m\u001b[0m\u001b[0;34m\u001b[0m\u001b[0m\n\u001b[0;32m---> 31\u001b[0;31m                                    use_astroNN=True)\n\u001b[0m\u001b[1;32m     32\u001b[0m     \u001b[0;32mif\u001b[0m \u001b[0;32mnot\u001b[0m \u001b[0muse_astroNN\u001b[0m\u001b[0;34m:\u001b[0m\u001b[0;34m\u001b[0m\u001b[0;34m\u001b[0m\u001b[0m\n\u001b[1;32m     33\u001b[0m         allStar=apread.allStar(rmcommissioning=True,\n",
      "\u001b[0;32m~/anaconda2/envs/py3/lib/python3.7/site-packages/apogee-1.-py3.7.egg/apogee/tools/read.py\u001b[0m in \u001b[0;36mallStar\u001b[0;34m(rmcommissioning, main, exclude_star_bad, exclude_star_warn, ak, akvers, survey, rmnovisits, use_astroNN, use_astroNN_abundances, use_astroNN_distances, use_astroNN_ages, use_astroNN_orbits, adddist, distredux, rmdups, raw, mjd, xmatch, test, dr, **kwargs)\u001b[0m\n\u001b[1;32m    181\u001b[0m         \u001b[0m_warn_astroNN_abundances\u001b[0m\u001b[0;34m(\u001b[0m\u001b[0;34m)\u001b[0m\u001b[0;34m\u001b[0m\u001b[0;34m\u001b[0m\u001b[0m\n\u001b[1;32m    182\u001b[0m         \u001b[0mastroNNdata\u001b[0m\u001b[0;34m=\u001b[0m \u001b[0mastroNN\u001b[0m\u001b[0;34m(\u001b[0m\u001b[0;34m)\u001b[0m\u001b[0;34m\u001b[0m\u001b[0;34m\u001b[0m\u001b[0m\n\u001b[0;32m--> 183\u001b[0;31m         \u001b[0mdata\u001b[0m\u001b[0;34m=\u001b[0m \u001b[0m_swap_in_astroNN\u001b[0m\u001b[0;34m(\u001b[0m\u001b[0mdata\u001b[0m\u001b[0;34m,\u001b[0m\u001b[0mastroNNdata\u001b[0m\u001b[0;34m)\u001b[0m\u001b[0;34m\u001b[0m\u001b[0;34m\u001b[0m\u001b[0m\n\u001b[0m\u001b[1;32m    184\u001b[0m         \u001b[0;32mdel\u001b[0m \u001b[0mastroNNdata\u001b[0m\u001b[0;34m\u001b[0m\u001b[0;34m\u001b[0m\u001b[0m\n\u001b[1;32m    185\u001b[0m     \u001b[0;32mif\u001b[0m \u001b[0muse_astroNN\u001b[0m \u001b[0;32mor\u001b[0m \u001b[0mkwargs\u001b[0m\u001b[0;34m.\u001b[0m\u001b[0mget\u001b[0m\u001b[0;34m(\u001b[0m\u001b[0;34m'astroNN'\u001b[0m\u001b[0;34m,\u001b[0m\u001b[0;32mFalse\u001b[0m\u001b[0;34m)\u001b[0m \u001b[0;32mor\u001b[0m \u001b[0muse_astroNN_distances\u001b[0m\u001b[0;34m:\u001b[0m\u001b[0;34m\u001b[0m\u001b[0;34m\u001b[0m\u001b[0m\n",
      "\u001b[0;32m~/anaconda2/envs/py3/lib/python3.7/site-packages/apogee-1.-py3.7.egg/apogee/tools/read.py\u001b[0m in \u001b[0;36m_swap_in_astroNN\u001b[0;34m(data, astroNNdata)\u001b[0m\n\u001b[1;32m   1302\u001b[0m                             range(2,22)):\n\u001b[1;32m   1303\u001b[0m             \u001b[0mdata\u001b[0m\u001b[0;34m[\u001b[0m\u001b[0;34m'X_H'\u001b[0m\u001b[0;34m]\u001b[0m\u001b[0;34m[\u001b[0m\u001b[0;34m:\u001b[0m\u001b[0;34m,\u001b[0m\u001b[0melemIndx\u001b[0m\u001b[0;34m(\u001b[0m\u001b[0mtag\u001b[0m\u001b[0;34m.\u001b[0m\u001b[0mupper\u001b[0m\u001b[0;34m(\u001b[0m\u001b[0;34m)\u001b[0m\u001b[0;34m)\u001b[0m\u001b[0;34m]\u001b[0m\u001b[0;34m=\u001b[0m\u001b[0;31m\\\u001b[0m\u001b[0;34m\u001b[0m\u001b[0;34m\u001b[0m\u001b[0m\n\u001b[0;32m-> 1304\u001b[0;31m                 \u001b[0mastroNNdata\u001b[0m\u001b[0;34m[\u001b[0m\u001b[0mtag\u001b[0m\u001b[0;34m.\u001b[0m\u001b[0mupper\u001b[0m\u001b[0;34m(\u001b[0m\u001b[0;34m)\u001b[0m\u001b[0;34m+\u001b[0m\u001b[0;34m'_H'\u001b[0m\u001b[0;34m]\u001b[0m\u001b[0;34m\u001b[0m\u001b[0;34m\u001b[0m\u001b[0m\n\u001b[0m\u001b[1;32m   1305\u001b[0m             \u001b[0mdata\u001b[0m\u001b[0;34m[\u001b[0m\u001b[0;34m'X_H_ERR'\u001b[0m\u001b[0;34m]\u001b[0m\u001b[0;34m[\u001b[0m\u001b[0;34m:\u001b[0m\u001b[0;34m,\u001b[0m\u001b[0melemIndx\u001b[0m\u001b[0;34m(\u001b[0m\u001b[0mtag\u001b[0m\u001b[0;34m.\u001b[0m\u001b[0mupper\u001b[0m\u001b[0;34m(\u001b[0m\u001b[0;34m)\u001b[0m\u001b[0;34m)\u001b[0m\u001b[0;34m]\u001b[0m\u001b[0;34m=\u001b[0m\u001b[0;31m\\\u001b[0m\u001b[0;34m\u001b[0m\u001b[0;34m\u001b[0m\u001b[0m\n\u001b[1;32m   1306\u001b[0m                 \u001b[0mastroNNdata\u001b[0m\u001b[0;34m[\u001b[0m\u001b[0mtag\u001b[0m\u001b[0;34m.\u001b[0m\u001b[0mupper\u001b[0m\u001b[0;34m(\u001b[0m\u001b[0;34m)\u001b[0m\u001b[0;34m+\u001b[0m\u001b[0;34m'_H_ERR'\u001b[0m\u001b[0;34m]\u001b[0m\u001b[0;34m\u001b[0m\u001b[0;34m\u001b[0m\u001b[0m\n",
      "\u001b[0;32m~/anaconda2/envs/py3/lib/python3.7/site-packages/apogee-1.-py3.7.egg/apogee/tools/__init__.py\u001b[0m in \u001b[0;36melemIndx\u001b[0;34m(elem)\u001b[0m\n\u001b[1;32m    217\u001b[0m         \u001b[0;32mreturn\u001b[0m \u001b[0m_ELEM_SYMBOL\u001b[0m\u001b[0;34m.\u001b[0m\u001b[0mindex\u001b[0m\u001b[0;34m(\u001b[0m\u001b[0melem\u001b[0m\u001b[0;34m.\u001b[0m\u001b[0mlower\u001b[0m\u001b[0;34m(\u001b[0m\u001b[0;34m)\u001b[0m\u001b[0;34m)\u001b[0m\u001b[0;34m\u001b[0m\u001b[0;34m\u001b[0m\u001b[0m\n\u001b[1;32m    218\u001b[0m     \u001b[0;32mexcept\u001b[0m \u001b[0mValueError\u001b[0m\u001b[0;34m:\u001b[0m\u001b[0;34m\u001b[0m\u001b[0;34m\u001b[0m\u001b[0m\n\u001b[0;32m--> 219\u001b[0;31m         \u001b[0;32mraise\u001b[0m \u001b[0mKeyError\u001b[0m\u001b[0;34m(\u001b[0m\u001b[0;34m\"Element %s is not part of the APOGEE elements (can't do everything!) or something went wrong)\"\u001b[0m \u001b[0;34m%\u001b[0m \u001b[0melem\u001b[0m\u001b[0;34m)\u001b[0m\u001b[0;34m\u001b[0m\u001b[0;34m\u001b[0m\u001b[0m\n\u001b[0m\u001b[1;32m    220\u001b[0m \u001b[0;34m\u001b[0m\u001b[0m\n\u001b[1;32m    221\u001b[0m \u001b[0;32mdef\u001b[0m \u001b[0matomic_number\u001b[0m\u001b[0;34m(\u001b[0m\u001b[0melem\u001b[0m\u001b[0;34m)\u001b[0m\u001b[0;34m:\u001b[0m\u001b[0;34m\u001b[0m\u001b[0;34m\u001b[0m\u001b[0m\n",
      "\u001b[0;31mKeyError\u001b[0m: \"Element CI is not part of the APOGEE elements (can't do everything!) or something went wrong)\""
     ]
    }
   ],
   "source": [
    "allStar=get_apogee(dr='16')\n",
    "allStar,goodstars,elemkeys=gen_keys_condition(allStar[inds],elems,dr=dr,uplim=0.15)"
   ]
  },
  {
   "cell_type": "code",
   "execution_count": null,
   "metadata": {},
   "outputs": [],
   "source": [
    "\n",
    "\n",
    "elems = ['C','N','O','NA','MG','AL','SI','S','K','CA','TI','V','MN','FE','NI']\n",
    "scalerange=[0.02,0.05,0.08,0.09,0.1,0.11,0.12,0.15,0.18,0.2,0.25]\n",
    "elems = ['C','N','O','MG','AL','SI','K','TI','MN','FE','NI']\n",
    "scalerange=[0.02,0.05,0.08,0.09,0.1,0.11,0.12,0.15,0.18,0.2,0.25]\n",
    "elems = ['O','MG','AL','SI','K','TI','MN','FE','NI']\n",
    "scalerange=[0.02,0.05,0.08,0.09,0.1,0.11,0.12,0.15,0.18,0.2,0.25]\n",
    "# elems = ['MG','AL','SI','K','TI','MN','FE','NI']\n",
    "# scalerange=[0.02,0.05,0.08,0.09,0.1,0.11,0.12,0.15,0.18,0.2,0.25]\n",
    "# elems = ['MG','AL','SI','TI','MN','FE','NI']\n",
    "# scalerange=[0.02,0.03,0.04,0.05,0.06,0.07,0.08,0.1,0.12,0.15,0.18,0.2,0.25]\n",
    "#elems = ['MG','AL','SI','MN','FE']\n",
    "#scalerange=[0.02,0.03,0.04,0.05,0.06,0.07,0.08,0.09,0.1]\n",
    "\n",
    "dbplot = DBSCAN_plot(elems,elemkeys,len(allStar[goodstars]))\n",
    "abuns = dbplot.realdata(allStar,goodstars)\n",
    "dbplot.DBSCAN_scales(savename='realdata',workdir=cwd,scalerange=scalerange)\n",
    "abuns = dbplot.simulated(genfn='choosestruct',workdir=cwd)#fname='case12-V300.0-a2.1_2019-07-24.15.18.02.982325.hdf5')\n",
    "dbplot.DBSCAN_scales(savename='simulated',workdir=cwd,scalerange=scalerange)\n",
    "# abuns = dbplot.simulated(genfn='gmmgeneration',workdir=cwd)\n",
    "# dbplot.DBSCAN_scales(savename='gmm3simulated',workdir=cwd)\n",
    "# abuns = dbplot.gaussian_mixture_model(allStar,goodstars,n_components=1)\n",
    "# dbplot.DBSCAN_scales(savename='gmm1',workdir=cwd)\n",
    "# abuns = dbplot.gaussian_mixture_model(allStar,goodstars,n_components=2)\n",
    "# dbplot.DBSCAN_scales(savename='gmm2',workdir=cwd)\n",
    "# abuns = dbplot.gaussian_mixture_model(allStar,goodstars,n_components=3)\n",
    "# dbplot.DBSCAN_scales(savename='gmm3',workdir=cwd)"
   ]
  }
 ],
 "metadata": {
  "kernelspec": {
   "display_name": "Python 3",
   "language": "python",
   "name": "python3"
  },
  "language_info": {
   "codemirror_mode": {
    "name": "ipython",
    "version": 3
   },
   "file_extension": ".py",
   "mimetype": "text/x-python",
   "name": "python",
   "nbconvert_exporter": "python",
   "pygments_lexer": "ipython3",
   "version": "3.7.3"
  }
 },
 "nbformat": 4,
 "nbformat_minor": 2
}
